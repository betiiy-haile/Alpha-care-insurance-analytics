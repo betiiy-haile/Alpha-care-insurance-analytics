{
 "cells": [
  {
   "cell_type": "code",
   "execution_count": 1,
   "metadata": {},
   "outputs": [],
   "source": [
    "#Step 1: Data Preparation\n",
    "#1.1 Handling Missing Data\n",
    "\n",
    "import pandas as pd\n",
    "import numpy as np\n",
    "from sklearn.model_selection import train_test_split\n",
    "from sklearn.preprocessing import OneHotEncoder, StandardScaler\n",
    "from sklearn.impute import SimpleImputer"
   ]
  },
  {
   "cell_type": "code",
   "execution_count": 2,
   "metadata": {},
   "outputs": [],
   "source": [
    "# Load the data\n",
    "data = pd.read_csv('../data/MachineLearningRating_v3.txt', sep='|', engine='python')"
   ]
  },
  {
   "cell_type": "code",
   "execution_count": 3,
   "metadata": {},
   "outputs": [],
   "source": [
    "# Convert data types to more memory-efficient formats\n",
    "for col in data.select_dtypes(include=['float64']).columns:\n",
    "    data[col] = pd.to_numeric(data[col], downcast='float')\n",
    "\n",
    "for col in data.select_dtypes(include=['int64']).columns:\n",
    "    data[col] = pd.to_numeric(data[col], downcast='integer')"
   ]
  },
  {
   "cell_type": "code",
   "execution_count": 4,
   "metadata": {},
   "outputs": [],
   "source": [
    "#1.2 Feature Engineering\n",
    "# Convert TransactionMonth to datetime and extract relevant features\n",
    "data['TransactionMonth'] = pd.to_datetime(data['TransactionMonth'], errors='coerce')\n",
    "data['TransactionYear'] = data['TransactionMonth'].dt.year\n",
    "data['TransactionMonth'] = data['TransactionMonth'].dt.month\n",
    "\n",
    "# Feature Engineering\n",
    "data['VehicleAge'] = 2024 - data['RegistrationYear']\n",
    "data['ProfitMarginRatio'] = data['TotalPremium'] - data['TotalClaims']\n",
    "data['ProfitMarginRatio'] = data['ProfitMarginRatio'].replace([np.inf, -np.inf], 0)\n",
    "data['ProfitMarginRatio'] = data['ProfitMarginRatio'].fillna(0)"
   ]
  },
  {
   "cell_type": "code",
   "execution_count": 5,
   "metadata": {},
   "outputs": [],
   "source": [
    "# Handling Missing Data\n",
    "imputer = SimpleImputer(strategy='mean')\n",
    "data['TotalPremium'] = imputer.fit_transform(data[['TotalPremium']])\n",
    "data['TotalClaims'] = imputer.fit_transform(data[['TotalClaims']])\n",
    "\n",
    "# Drop rows with missing values in categorical columns\n",
    "data.dropna(subset=['Province', 'PostalCode', 'Gender'], inplace=True)"
   ]
  },
  {
   "cell_type": "code",
   "execution_count": 6,
   "metadata": {},
   "outputs": [],
   "source": [
    "# Drop irrelevant or non-numeric columns before encoding\n",
    "data.drop(['UnderwrittenCoverID', 'PolicyID', 'Country', 'MainCrestaZone', 'SubCrestaZone',\n",
    "           'make', 'Model', 'bodytype', 'Title', 'Language', 'Bank', 'AccountType', 'LegalType', 'MaritalStatus'], axis=1, inplace=True)"
   ]
  },
  {
   "cell_type": "code",
   "execution_count": 7,
   "metadata": {},
   "outputs": [],
   "source": [
    "#1.3 Encoding Categorical Data\n",
    "# Encoding Categorical Data\n",
    "categorical_features = ['Province', 'PostalCode', 'Gender', 'VehicleType', 'CoverType']"
   ]
  },
  {
   "cell_type": "code",
   "execution_count": 8,
   "metadata": {},
   "outputs": [],
   "source": [
    "# Reduce cardinality by grouping infrequent categories (if necessary)\n",
    "for feature in categorical_features:\n",
    "    top_categories = data[feature].value_counts().nlargest(10).index\n",
    "    data[feature] = np.where(data[feature].isin(top_categories), data[feature], 'Other')"
   ]
  },
  {
   "cell_type": "code",
   "execution_count": 9,
   "metadata": {},
   "outputs": [],
   "source": [
    "# One-hot encoding with memory efficiency\n",
    "data = pd.get_dummies(data, columns=categorical_features, drop_first=True)\n",
    "\n",
    "# Ensure all columns are numeric and handle non-numeric values\n",
    "data = data.apply(pd.to_numeric, errors='coerce').fillna(0)"
   ]
  },
  {
   "cell_type": "code",
   "execution_count": 10,
   "metadata": {},
   "outputs": [],
   "source": [
    "#1.4 Train-Test Split\n",
    "# Train-Test Split\n",
    "X = data.drop(['TotalPremium', 'TotalClaims'], axis=1)\n",
    "y = data['TotalPremium']\n",
    "X_train, X_test, y_train, y_test = train_test_split(X, y, test_size=0.3, random_state=42)\n",
    "\n",
    "# Feature Scaling\n",
    "scaler = StandardScaler()\n",
    "X_train = scaler.fit_transform(X_train)\n",
    "X_test = scaler.transform(X_test)"
   ]
  },
  {
   "cell_type": "code",
   "execution_count": 11,
   "metadata": {},
   "outputs": [
    {
     "name": "stdout",
     "output_type": "stream",
     "text": [
      "X_train shape: (693393, 69)\n",
      "X_test shape: (297169, 69)\n",
      "Sample feature names: Index(['TransactionMonth', 'IsVATRegistered', 'Citizenship', 'ItemType',\n",
      "       'mmcode'],\n",
      "      dtype='object')\n"
     ]
    }
   ],
   "source": [
    "# Verify the transformations\n",
    "print(f\"X_train shape: {X_train.shape}\")\n",
    "print(f\"X_test shape: {X_test.shape}\")\n",
    "print(f\"Sample feature names: {X.columns[:5]}\")"
   ]
  },
  {
   "cell_type": "code",
   "execution_count": 12,
   "metadata": {},
   "outputs": [
    {
     "name": "stdout",
     "output_type": "stream",
     "text": [
      "Linear Regression - MSE: 34337.564029587076, R2: 0.27003819801328466\n"
     ]
    }
   ],
   "source": [
    "#Step 2: Modeling Techniques\n",
    "#2.1 Linear Regression\n",
    "\n",
    "from sklearn.linear_model import LinearRegression\n",
    "from sklearn.metrics import mean_squared_error, r2_score\n",
    "\n",
    "# Linear Regression Model\n",
    "lr_model = LinearRegression()\n",
    "lr_model.fit(X_train, y_train)\n",
    "y_pred_lr = lr_model.predict(X_test)\n",
    "\n",
    "# Evaluation\n",
    "mse_lr = mean_squared_error(y_test, y_pred_lr)\n",
    "r2_lr = r2_score(y_test, y_pred_lr)\n",
    "print(f\"Linear Regression - MSE: {mse_lr}, R2: {r2_lr}\")"
   ]
  },
  {
   "cell_type": "code",
   "execution_count": 13,
   "metadata": {},
   "outputs": [
    {
     "name": "stdout",
     "output_type": "stream",
     "text": [
      "Random Forest - MSE: 3014.1336803693066, R2: 0.9359243290859125\n"
     ]
    }
   ],
   "source": [
    "#2.2 Random Forest\n",
    "from sklearn.ensemble import RandomForestRegressor\n",
    "\n",
    "# Random Forest Model\n",
    "rf_model = RandomForestRegressor(n_estimators=100, random_state=42)\n",
    "rf_model.fit(X_train, y_train)\n",
    "y_pred_rf = rf_model.predict(X_test)\n",
    "\n",
    "# Evaluation\n",
    "mse_rf = mean_squared_error(y_test, y_pred_rf)\n",
    "r2_rf = r2_score(y_test, y_pred_rf)\n",
    "print(f\"Random Forest - MSE: {mse_rf}, R2: {r2_rf}\")"
   ]
  },
  {
   "cell_type": "code",
   "execution_count": 14,
   "metadata": {},
   "outputs": [],
   "source": [
    "%pip install xgboost"
   ]
  },
  {
   "cell_type": "code",
   "execution_count": 21,
   "metadata": {},
   "outputs": [
    {
     "ename": "ModuleNotFoundError",
     "evalue": "No module named 'xgboost'",
     "output_type": "error",
     "traceback": [
      "\u001b[0;31m---------------------------------------------------------------------------\u001b[0m",
      "\u001b[0;31mModuleNotFoundError\u001b[0m                       Traceback (most recent call last)",
      "Cell \u001b[0;32mIn[21], line 2\u001b[0m\n\u001b[1;32m      1\u001b[0m \u001b[38;5;66;03m#2.3 XGBoost\u001b[39;00m\n\u001b[0;32m----> 2\u001b[0m \u001b[38;5;28;01mimport\u001b[39;00m \u001b[38;5;21;01mxgboost\u001b[39;00m \u001b[38;5;28;01mas\u001b[39;00m \u001b[38;5;21;01mxgb\u001b[39;00m\n\u001b[1;32m      4\u001b[0m \u001b[38;5;66;03m# XGBoost Model\u001b[39;00m\n\u001b[1;32m      5\u001b[0m xgb_model \u001b[38;5;241m=\u001b[39m xgb\u001b[38;5;241m.\u001b[39mXGBRegressor(objective\u001b[38;5;241m=\u001b[39m\u001b[38;5;124m'\u001b[39m\u001b[38;5;124mreg:squarederror\u001b[39m\u001b[38;5;124m'\u001b[39m, n_estimators\u001b[38;5;241m=\u001b[39m\u001b[38;5;241m100\u001b[39m, random_state\u001b[38;5;241m=\u001b[39m\u001b[38;5;241m42\u001b[39m)\n",
      "\u001b[0;31mModuleNotFoundError\u001b[0m: No module named 'xgboost'"
     ]
    }
   ],
   "source": [
    "#2.3 XGBoost\n",
    "import xgboost as xgb\n",
    "\n",
    "# XGBoost Model\n",
    "xgb_model = xgb.XGBRegressor(objective='reg:squarederror', n_estimators=100, random_state=42)\n",
    "xgb_model.fit(X_train, y_train)\n",
    "y_pred_xgb = xgb_model.predict(X_test)\n",
    "\n",
    "# Evaluation\n",
    "mse_xgb = mean_squared_error(y_test, y_pred_xgb)\n",
    "r2_xgb = r2_score(y_test, y_pred_xgb)\n",
    "print(f\"XGBoost - MSE: {mse_xgb}, R2: {r2_xgb}\")"
   ]
  },
  {
   "cell_type": "code",
   "execution_count": null,
   "metadata": {},
   "outputs": [],
   "source": []
  }
 ],
 "metadata": {
  "kernelspec": {
   "display_name": "myenv",
   "language": "python",
   "name": "python3"
  },
  "language_info": {
   "codemirror_mode": {
    "name": "ipython",
    "version": 3
   },
   "file_extension": ".py",
   "mimetype": "text/x-python",
   "name": "python",
   "nbconvert_exporter": "python",
   "pygments_lexer": "ipython3",
   "version": "3.12.2"
  }
 },
 "nbformat": 4,
 "nbformat_minor": 2
}
